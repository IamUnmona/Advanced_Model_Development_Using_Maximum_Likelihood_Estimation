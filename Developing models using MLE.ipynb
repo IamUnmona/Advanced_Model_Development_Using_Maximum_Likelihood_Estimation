{
 "cells": [
  {
   "cell_type": "markdown",
   "metadata": {},
   "source": [
    "# The associated data is in the file candy.csv. Develop the following models using maximum likelihood estimation (MLE):\n",
    "## a. the Poisson model,\n",
    "## b. the NBD model,\n",
    "## c. the Zero-Inflated NBD model, and\n",
    "## d. Finite Mixture models for 2, 3, and 4 segments."
   ]
  },
  {
   "cell_type": "code",
   "execution_count": 1,
   "metadata": {},
   "outputs": [],
   "source": [
    "import os \n",
    "import pandas as pd\n",
    "import numpy as np\n",
    "import matplotlib.pyplot as plt\n",
    "from scipy.stats import poisson\n",
    "from scipy.optimize import minimize"
   ]
  },
  {
   "cell_type": "markdown",
   "metadata": {},
   "source": [
    "<hr style=\"border:2px solid black\">\n",
    "<b>Read in the data</b>\n",
    "<hr style=\"border:2px solid black\">"
   ]
  },
  {
   "cell_type": "code",
   "execution_count": 2,
   "metadata": {},
   "outputs": [
    {
     "data": {
      "text/html": [
       "<div>\n",
       "<style scoped>\n",
       "    .dataframe tbody tr th:only-of-type {\n",
       "        vertical-align: middle;\n",
       "    }\n",
       "\n",
       "    .dataframe tbody tr th {\n",
       "        vertical-align: top;\n",
       "    }\n",
       "\n",
       "    .dataframe thead th {\n",
       "        text-align: right;\n",
       "    }\n",
       "</style>\n",
       "<table border=\"1\" class=\"dataframe\">\n",
       "  <thead>\n",
       "    <tr style=\"text-align: right;\">\n",
       "      <th></th>\n",
       "      <th>Packs</th>\n",
       "      <th>People</th>\n",
       "    </tr>\n",
       "  </thead>\n",
       "  <tbody>\n",
       "    <tr>\n",
       "      <th>0</th>\n",
       "      <td>0</td>\n",
       "      <td>102</td>\n",
       "    </tr>\n",
       "    <tr>\n",
       "      <th>1</th>\n",
       "      <td>1</td>\n",
       "      <td>54</td>\n",
       "    </tr>\n",
       "    <tr>\n",
       "      <th>2</th>\n",
       "      <td>2</td>\n",
       "      <td>49</td>\n",
       "    </tr>\n",
       "    <tr>\n",
       "      <th>3</th>\n",
       "      <td>3</td>\n",
       "      <td>62</td>\n",
       "    </tr>\n",
       "    <tr>\n",
       "      <th>4</th>\n",
       "      <td>4</td>\n",
       "      <td>44</td>\n",
       "    </tr>\n",
       "  </tbody>\n",
       "</table>\n",
       "</div>"
      ],
      "text/plain": [
       "   Packs  People\n",
       "0      0     102\n",
       "1      1      54\n",
       "2      2      49\n",
       "3      3      62\n",
       "4      4      44"
      ]
     },
     "execution_count": 2,
     "metadata": {},
     "output_type": "execute_result"
    }
   ],
   "source": [
    "file_path = 'C:/users/mared/desktop/MIS 6386/Project 2/candy.csv'\n",
    "candy = pd.read_csv('candy.csv')\n",
    "candy.head()"
   ]
  },
  {
   "cell_type": "markdown",
   "metadata": {},
   "source": [
    "# Poisson Model"
   ]
  },
  {
   "cell_type": "markdown",
   "metadata": {},
   "source": [
    "<hr style=\"border:2px solid black\">\n",
    "<b>Define the funtions needed</b><br>\n",
    "<b>1. the log-likelihood</b>\n",
    "<hr style=\"border:2px solid black\">"
   ]
  },
  {
   "cell_type": "code",
   "execution_count": 3,
   "metadata": {},
   "outputs": [],
   "source": [
    "def ll_poisson(params, packs, people):\n",
    "    lam = params\n",
    "    \n",
    "    prob = []\n",
    "    prob_t =[]\n",
    "    #probSum = 0\n",
    "    \n",
    "# need to consider all periods\n",
    "    pds = list(range(0, len(packs)))\n",
    "    for i in pds:\n",
    "            prob.append(poisson.pmf(packs[i],lam))\n",
    "            prob_t.append(people[i]*np.log(prob[i]))\n",
    "        \n",
    "    return sum(prob_t)"
   ]
  },
  {
   "cell_type": "markdown",
   "metadata": {},
   "source": [
    "<hr style=\"border:2px solid black\">\n",
    "<b>2. the negative of the log-likelihood</b>\n",
    "<hr style=\"border:2px solid black\">"
   ]
  },
  {
   "cell_type": "code",
   "execution_count": 4,
   "metadata": {},
   "outputs": [],
   "source": [
    "def neg_ll_poisson(params, packs, people):\n",
    "    return(-np.sum(ll_poisson(params, packs, people)))"
   ]
  },
  {
   "cell_type": "markdown",
   "metadata": {},
   "source": [
    "<hr style=\"border:2px solid black\">\n",
    "<b>3. Specify the information needed for the optimizer</b>\n",
    "<hr style=\"border:2px solid black\">"
   ]
  },
  {
   "cell_type": "code",
   "execution_count": 5,
   "metadata": {},
   "outputs": [
    {
     "name": "stdout",
     "output_type": "stream",
     "text": [
      "10.0 -2613.351647612551\n",
      "neg: 2613.351647612551\n"
     ]
    }
   ],
   "source": [
    "packs = candy.Packs\n",
    "people = candy.People\n",
    "params = np.mean(packs)\n",
    "print(params, ll_poisson(params, packs, people))\n",
    "print('neg:', neg_ll_poisson(params, packs, people))\n"
   ]
  },
  {
   "cell_type": "markdown",
   "metadata": {},
   "source": [
    "<hr style=\"border:2px solid black\">\n",
    "<b>4. Call the optimizer</b>\n",
    "<hr style=\"border:2px solid black\">"
   ]
  },
  {
   "cell_type": "code",
   "execution_count": 6,
   "metadata": {},
   "outputs": [],
   "source": [
    "result_poisson = minimize(\n",
    "    neg_ll_poisson, \n",
    "    params,\n",
    "    args=(packs, people))"
   ]
  },
  {
   "cell_type": "markdown",
   "metadata": {},
   "source": [
    "<hr style=\"border:2px solid black\">\n",
    "<b>5. Review the result</b>\n",
    "<hr style=\"border:2px solid black\">"
   ]
  },
  {
   "cell_type": "code",
   "execution_count": 7,
   "metadata": {},
   "outputs": [
    {
     "data": {
      "text/plain": [
       "      fun: 1544.9963904489678\n",
       " hess_inv: array([[0.00814079]])\n",
       "      jac: array([0.])\n",
       "  message: 'Optimization terminated successfully.'\n",
       "     nfev: 20\n",
       "      nit: 7\n",
       "     njev: 10\n",
       "   status: 0\n",
       "  success: True\n",
       "        x: array([3.99122794])"
      ]
     },
     "execution_count": 7,
     "metadata": {},
     "output_type": "execute_result"
    }
   ],
   "source": [
    "result_poisson"
   ]
  },
  {
   "cell_type": "code",
   "execution_count": 8,
   "metadata": {},
   "outputs": [
    {
     "name": "stdout",
     "output_type": "stream",
     "text": [
      "Estimated Poisson Parameter (lambda): 3.991227942685413\n",
      "Maximum Log-Likelihood (Poisson Model): -1544.9963904489678\n"
     ]
    }
   ],
   "source": [
    "print(\"Estimated Poisson Parameter (lambda):\", result_poisson.x[0])\n",
    "print(\"Maximum Log-Likelihood (Poisson Model):\", -result_poisson.fun)"
   ]
  },
  {
   "cell_type": "markdown",
   "metadata": {},
   "source": [
    "<b>The estimated parameter (λ) for the Poisson model is approximately 3.991, and the maximum value of the log-likelihood is approximately -1544.996.<b>"
   ]
  },
  {
   "cell_type": "markdown",
   "metadata": {},
   "source": [
    "# NBD Model"
   ]
  },
  {
   "cell_type": "markdown",
   "metadata": {},
   "source": [
    "<hr style=\"border:2px solid black\">\n",
    "<b>Define the funtions needed</b><br>\n",
    "<b>1. the log-likelihood</b>\n",
    "<hr style=\"border:2px solid black\">"
   ]
  },
  {
   "cell_type": "code",
   "execution_count": 9,
   "metadata": {},
   "outputs": [],
   "source": [
    "def log_likelihood_nbd(params, packs, people):\n",
    "    shape_n, alpha = params\n",
    "    \n",
    "    prob = []\n",
    "    prob_t =[]\n",
    "    #probSum = 0\n",
    "    \n",
    "# need to consider all periods\n",
    "    pds = list(range(0, len(packs)))\n",
    "    for i in pds:\n",
    "        if i == 0:\n",
    "            prob.append((alpha/(alpha+1))**shape_n)\n",
    "            prob_t.append(people[i]*np.log(prob[i]))\n",
    "            #probSum += prob_t[i]\n",
    "        else:\n",
    "            prob.append(prob[i-1]*((shape_n)+(packs[i])-1)/(packs[i]*((alpha)+1)))\n",
    "            prob_t.append(people[i]*np.log(prob[i]))\n",
    "            #probSum += prob_t[i]\n",
    "        \n",
    "    return sum(prob_t)"
   ]
  },
  {
   "cell_type": "markdown",
   "metadata": {},
   "source": [
    "<hr style=\"border:2px solid black\">\n",
    "<b>2. the negative of the log-likelihood</b>\n",
    "<hr style=\"border:2px solid black\">"
   ]
  },
  {
   "cell_type": "code",
   "execution_count": 10,
   "metadata": {},
   "outputs": [],
   "source": [
    "def neg_log_likelihood_nbd(params, packs, people):\n",
    "    return(-np.sum(log_likelihood_nbd(params, packs, people)))"
   ]
  },
  {
   "cell_type": "markdown",
   "metadata": {},
   "source": [
    "<hr style=\"border:2px solid black\">\n",
    "<b>3. Specify the information needed for the optimizer</b>\n",
    "<hr style=\"border:2px solid black\">"
   ]
  },
  {
   "cell_type": "code",
   "execution_count": 11,
   "metadata": {},
   "outputs": [
    {
     "name": "stdout",
     "output_type": "stream",
     "text": [
      "-1238.913700389517\n",
      "neg: 1238.913700389517\n"
     ]
    }
   ],
   "source": [
    "packs = candy.Packs\n",
    "people = candy.People\n",
    "params = np.array((1,0.5))\n",
    "print(log_likelihood_nbd(params, packs, people))\n",
    "print('neg:', neg_log_likelihood_nbd(params, packs, people))\n"
   ]
  },
  {
   "cell_type": "markdown",
   "metadata": {},
   "source": [
    "<hr style=\"border:2px solid black\">\n",
    "<b>4. Call the optimizer</b>\n",
    "<hr style=\"border:2px solid black\">"
   ]
  },
  {
   "cell_type": "code",
   "execution_count": 12,
   "metadata": {},
   "outputs": [],
   "source": [
    "result_nbd_final = minimize(\n",
    "    neg_log_likelihood_nbd, \n",
    "    [1, 0.5],  # Inline initial guess\n",
    "    args=(packs, people), \n",
    "    bounds=((1e-5, None), (1e-5, 1-1e-5))  # Inline bounds\n",
    ")"
   ]
  },
  {
   "cell_type": "markdown",
   "metadata": {},
   "source": [
    "<hr style=\"border:2px solid black\">\n",
    "<b>5. Review the result</b>\n",
    "<hr style=\"border:2px solid black\">"
   ]
  },
  {
   "cell_type": "code",
   "execution_count": 13,
   "metadata": {},
   "outputs": [
    {
     "data": {
      "text/plain": [
       "      fun: 1140.0237461861923\n",
       " hess_inv: <2x2 LbfgsInvHessProduct with dtype=float64>\n",
       "      jac: array([ 0.00079581, -0.00138698])\n",
       "  message: 'CONVERGENCE: REL_REDUCTION_OF_F_<=_FACTR*EPSMCH'\n",
       "     nfev: 36\n",
       "      nit: 8\n",
       "     njev: 12\n",
       "   status: 0\n",
       "  success: True\n",
       "        x: array([0.99766195, 0.2499634 ])"
      ]
     },
     "execution_count": 13,
     "metadata": {},
     "output_type": "execute_result"
    }
   ],
   "source": [
    "result_nbd_final"
   ]
  },
  {
   "cell_type": "code",
   "execution_count": 14,
   "metadata": {},
   "outputs": [
    {
     "name": "stdout",
     "output_type": "stream",
     "text": [
      "Estimated NBD Parameters (shape, alpha): [0.99766195 0.2499634 ]\n",
      "Maximum Log-Likelihood (NBD Model): -1140.0237461861923\n"
     ]
    }
   ],
   "source": [
    "print(\"Estimated NBD Parameters (shape, alpha):\", result_nbd_final.x)\n",
    "print(\"Maximum Log-Likelihood (NBD Model):\", -result_nbd_final.fun)"
   ]
  },
  {
   "cell_type": "markdown",
   "metadata": {},
   "source": [
    "<b>The estimated alpha parameter for the NBD model is approximately 0.998, the estimated shape parameter is 0.250 and the maximum value of the log-likelihood is approximately -1140.024.<b>"
   ]
  },
  {
   "cell_type": "markdown",
   "metadata": {},
   "source": [
    "# Zero-Inflated NBD Model"
   ]
  },
  {
   "cell_type": "markdown",
   "metadata": {},
   "source": [
    "<hr style=\"border:2px solid black\">\n",
    "<b>Define the funtions needed</b><br>\n",
    "<b>1. the log-likelihood</b>\n",
    "<hr style=\"border:2px solid black\">"
   ]
  },
  {
   "cell_type": "code",
   "execution_count": 15,
   "metadata": {},
   "outputs": [],
   "source": [
    "def log_likelihood_znbd(params, packs, people):\n",
    "    shape_n, alpha, pi = params\n",
    "    \n",
    "    prob = []\n",
    "    prob_t =[]\n",
    "    nbd = []\n",
    "    #probSum = 0\n",
    "    \n",
    "# need to consider all periods\n",
    "    pds = list(range(0, len(packs)))\n",
    "    for i in pds:\n",
    "        if i == 0:\n",
    "            nbd.append((alpha/(alpha+1))**shape_n)\n",
    "            prob.append(pi+(1-pi)*nbd[i])\n",
    "            prob_t.append(people[i]*np.log(prob[i]))\n",
    "            #probSum += prob_t[i]\n",
    "        else:\n",
    "            nbd.append(nbd[i-1]*((shape_n)+(packs[i])-1)/(packs[i]*((alpha)+1)))\n",
    "            prob.append((1-pi)*nbd[i])\n",
    "            prob_t.append(people[i]*np.log(prob[i]))\n",
    "            #probSum += prob_t[i]\n",
    "        \n",
    "    return sum(prob_t)"
   ]
  },
  {
   "cell_type": "markdown",
   "metadata": {},
   "source": [
    "<hr style=\"border:2px solid black\">\n",
    "<b>2. the negative of the log-likelihood</b>\n",
    "<hr style=\"border:2px solid black\">"
   ]
  },
  {
   "cell_type": "code",
   "execution_count": 16,
   "metadata": {},
   "outputs": [],
   "source": [
    "def neg_log_likelihood_znbd(params, packs, people):\n",
    "    return(-np.sum(log_likelihood_znbd(params, packs, people)))"
   ]
  },
  {
   "cell_type": "markdown",
   "metadata": {},
   "source": [
    "<hr style=\"border:2px solid black\">\n",
    "<b>3. Specify the information needed for the optimizer</b>\n",
    "<hr style=\"border:2px solid black\">"
   ]
  },
  {
   "cell_type": "code",
   "execution_count": 17,
   "metadata": {},
   "outputs": [
    {
     "name": "stdout",
     "output_type": "stream",
     "text": [
      "-1413.5867898906235\n",
      "neg: 1413.5867898906235\n"
     ]
    }
   ],
   "source": [
    "packs = candy.Packs\n",
    "people = candy.People\n",
    "params = np.array((1,0.5,0.5))\n",
    "print(log_likelihood_znbd(params, packs, people))\n",
    "print('neg:', neg_log_likelihood_znbd(params, packs, people))"
   ]
  },
  {
   "cell_type": "markdown",
   "metadata": {},
   "source": [
    "<hr style=\"border:2px solid black\">\n",
    "<b>4. Call the optimizer</b>\n",
    "<hr style=\"border:2px solid black\">"
   ]
  },
  {
   "cell_type": "code",
   "execution_count": 18,
   "metadata": {},
   "outputs": [],
   "source": [
    "result_znbd_final = minimize(\n",
    "    neg_log_likelihood_znbd, \n",
    "    [1, 0.5,0.5],  # Inline initial guess\n",
    "    args=(packs, people), \n",
    "    bounds=((1e-5, None), (1e-5, 1-1e-5),(1e-5, None))  # Inline bounds\n",
    ")"
   ]
  },
  {
   "cell_type": "markdown",
   "metadata": {},
   "source": [
    "<hr style=\"border:2px solid black\">\n",
    "<b>5. Review the result</b>\n",
    "<hr style=\"border:2px solid black\">"
   ]
  },
  {
   "cell_type": "code",
   "execution_count": 19,
   "metadata": {},
   "outputs": [
    {
     "data": {
      "text/plain": [
       "      fun: 1136.1656408318265\n",
       " hess_inv: <3x3 LbfgsInvHessProduct with dtype=float64>\n",
       "      jac: array([-9.09494707e-05,  6.59383659e-04,  1.36424205e-04])\n",
       "  message: 'CONVERGENCE: REL_REDUCTION_OF_F_<=_FACTR*EPSMCH'\n",
       "     nfev: 60\n",
       "      nit: 14\n",
       "     njev: 15\n",
       "   status: 0\n",
       "  success: True\n",
       "        x: array([1.5039228 , 0.33418861, 0.11310451])"
      ]
     },
     "execution_count": 19,
     "metadata": {},
     "output_type": "execute_result"
    }
   ],
   "source": [
    "result_znbd_final"
   ]
  },
  {
   "cell_type": "code",
   "execution_count": 20,
   "metadata": {},
   "outputs": [
    {
     "name": "stdout",
     "output_type": "stream",
     "text": [
      "Estimated Zero-inflated NBD Parameters (shape, alpha, pi): [1.5039228  0.33418861 0.11310451]\n",
      "Maximum Log-Likelihood (NBD Model): -1136.1656408318265\n"
     ]
    }
   ],
   "source": [
    "print(\"Estimated Zero-inflated NBD Parameters (shape, alpha, pi):\", result_znbd_final.x)\n",
    "print(\"Maximum Log-Likelihood (NBD Model):\", -result_znbd_final.fun)"
   ]
  },
  {
   "cell_type": "markdown",
   "metadata": {},
   "source": [
    "<b>The estimated shape parameter for the zero-inflated NBD model is approximately 1.504, the estimated alpha parameter is 0.334, pi value is 0.113 and the maximum value of the log-likelihood is approximately -1136.166.<b>"
   ]
  },
  {
   "cell_type": "markdown",
   "metadata": {},
   "source": [
    "# Finite Mixture Models"
   ]
  },
  {
   "cell_type": "markdown",
   "metadata": {},
   "source": [
    "## 2 Segment"
   ]
  },
  {
   "cell_type": "markdown",
   "metadata": {},
   "source": [
    "<hr style=\"border:2px solid black\">\n",
    "<b>Define the funtions needed</b><br>\n",
    "<b>1. the log-likelihood</b>\n",
    "<hr style=\"border:2px solid black\">"
   ]
  },
  {
   "cell_type": "code",
   "execution_count": 21,
   "metadata": {},
   "outputs": [],
   "source": [
    "def log_likelihood_fmm2(params, packs, people):\n",
    "    lam1, lam2, pi = params\n",
    "    \n",
    "    prob = []\n",
    "    prob_t =[]\n",
    "    seg1 = []\n",
    "    seg2 = []\n",
    "    E = []\n",
    "    #probSum = 0\n",
    "    \n",
    "# need to consider all periods\n",
    "    pds = list(range(0, len(packs)))\n",
    "    for i in pds:\n",
    "        if i == 0:\n",
    "            seg1.append(poisson.pmf(packs[i],lam1))\n",
    "            seg2.append(poisson.pmf(packs[i],lam2))\n",
    "            prob.append(pi*seg1[i]+(1-pi)*seg2[i])\n",
    "            prob_t.append(people[i]*np.log(prob[i]))\n",
    "            E.append(prob[i]*people.sum())\n",
    "            #probSum += prob_t[i]\n",
    "        else:\n",
    "            seg1.append(poisson.pmf(packs[i],lam1))\n",
    "            seg2.append(poisson.pmf(packs[i],lam2))\n",
    "            prob.append(pi*seg1[i]+(1-pi)*seg2[i])\n",
    "            prob_t.append(people[i]*np.log(prob[i]))\n",
    "            E.append(prob[i]*people.sum())\n",
    "            #probSum += prob_t[i]\n",
    "        \n",
    "    return sum(prob_t)"
   ]
  },
  {
   "cell_type": "markdown",
   "metadata": {},
   "source": [
    "<hr style=\"border:2px solid black\">\n",
    "<b>2. the negative of the log-likelihood</b>\n",
    "<hr style=\"border:2px solid black\">"
   ]
  },
  {
   "cell_type": "code",
   "execution_count": 22,
   "metadata": {},
   "outputs": [],
   "source": [
    "def neg_log_likelihood_fmm2(params, packs, people):\n",
    "    return(-np.sum(log_likelihood_fmm2(params, packs, people)))"
   ]
  },
  {
   "cell_type": "markdown",
   "metadata": {},
   "source": [
    "<hr style=\"border:2px solid black\">\n",
    "<b>3. Specify the information needed for the optimizer</b>\n",
    "<hr style=\"border:2px solid black\">"
   ]
  },
  {
   "cell_type": "code",
   "execution_count": 23,
   "metadata": {},
   "outputs": [
    {
     "name": "stdout",
     "output_type": "stream",
     "text": [
      "-2849.197475099176\n",
      "neg: 2849.197475099176\n"
     ]
    }
   ],
   "source": [
    "packs = candy.Packs\n",
    "people = candy.People\n",
    "params = np.array((1,0.5,0.5))\n",
    "print(log_likelihood_fmm2(params, packs, people))\n",
    "print('neg:', neg_log_likelihood_fmm2(params, packs, people))"
   ]
  },
  {
   "cell_type": "markdown",
   "metadata": {},
   "source": [
    "<hr style=\"border:2px solid black\">\n",
    "<b>4. Call the optimizer</b>\n",
    "<hr style=\"border:2px solid black\">"
   ]
  },
  {
   "cell_type": "code",
   "execution_count": 24,
   "metadata": {},
   "outputs": [],
   "source": [
    "result_fmm2_final = minimize(\n",
    "    neg_log_likelihood_fmm2, \n",
    "    [1, 0.5,0.5],  # Inline initial guess\n",
    "    args=(packs, people), \n",
    "    bounds=((1e-5, None), (1e-5, None),(1e-5, 0.99999))  # Inline bounds\n",
    ")"
   ]
  },
  {
   "cell_type": "markdown",
   "metadata": {},
   "source": [
    "<hr style=\"border:2px solid black\">\n",
    "<b>5. Review the result</b>\n",
    "<hr style=\"border:2px solid black\">"
   ]
  },
  {
   "cell_type": "code",
   "execution_count": 25,
   "metadata": {},
   "outputs": [
    {
     "data": {
      "text/plain": [
       "      fun: 1188.8328271728494\n",
       " hess_inv: <3x3 LbfgsInvHessProduct with dtype=float64>\n",
       "      jac: array([ 4.54747313e-05, -3.18323148e-04, -1.81898940e-04])\n",
       "  message: 'CONVERGENCE: REL_REDUCTION_OF_F_<=_FACTR*EPSMCH'\n",
       "     nfev: 68\n",
       "      nit: 16\n",
       "     njev: 17\n",
       "   status: 0\n",
       "  success: True\n",
       "        x: array([9.1206904 , 1.80215205, 0.29911381])"
      ]
     },
     "execution_count": 25,
     "metadata": {},
     "output_type": "execute_result"
    }
   ],
   "source": [
    "result_fmm2_final"
   ]
  },
  {
   "cell_type": "code",
   "execution_count": 26,
   "metadata": {},
   "outputs": [
    {
     "name": "stdout",
     "output_type": "stream",
     "text": [
      "Estimated 2 segment finite mixture model Parameters (lambda 1, lambda 2, pi): [9.1206904  1.80215205 0.29911381]\n",
      "Maximum Log-Likelihood (2 segment finite mixture Model): -1188.8328271728494\n"
     ]
    }
   ],
   "source": [
    "print(\"Estimated 2 segment finite mixture model Parameters (lambda 1, lambda 2, pi):\", result_fmm2_final.x)\n",
    "print(\"Maximum Log-Likelihood (2 segment finite mixture Model):\", -result_fmm2_final.fun)"
   ]
  },
  {
   "cell_type": "markdown",
   "metadata": {},
   "source": [
    "## 3 Segment"
   ]
  },
  {
   "cell_type": "markdown",
   "metadata": {},
   "source": [
    "<hr style=\"border:2px solid black\">\n",
    "<b>Define the funtions needed</b><br>\n",
    "<b>1. the log-likelihood</b>\n",
    "<hr style=\"border:2px solid black\">"
   ]
  },
  {
   "cell_type": "code",
   "execution_count": 27,
   "metadata": {},
   "outputs": [],
   "source": [
    "def log_likelihood_fmm3(params, packs, people):\n",
    "    lam1, lam2, lam3, theta1, theta2, theta3 = params\n",
    "    \n",
    "    theta1=params[3]\n",
    "    theta2=params[4]\n",
    "    theta3=params[5]=0\n",
    "    prob = []\n",
    "    prob_t =[]\n",
    "    seg1 = []\n",
    "    seg2 = []\n",
    "    seg3 = []\n",
    "    E = []\n",
    "\n",
    "    #probSum = 0\n",
    "    \n",
    "# need to consider all periods\n",
    "    pds = list(range(0, len(packs)))\n",
    "    for i in pds:\n",
    "        if i == 0:\n",
    "            seg1.append(poisson.pmf(packs[i],lam1))\n",
    "            seg2.append(poisson.pmf(packs[i],lam2))\n",
    "            seg3.append(poisson.pmf(packs[i],lam3))\n",
    "                        \n",
    "            prob.append(((np.exp(theta1))/(np.exp(theta1)+np.exp(theta2)+np.exp(theta3)))*seg1[i]+\n",
    "                        ((np.exp(theta2))/(np.exp(theta1)+np.exp(theta2)+np.exp(theta3)))*seg2[i]+\n",
    "                        ((np.exp(theta3))/(np.exp(theta1)+np.exp(theta2)+np.exp(theta3)))*seg3[i])\n",
    "            prob_t.append(people[i]*np.log(prob[i]))\n",
    "            E.append(prob[i]*people.sum())\n",
    "            #probSum += prob_t[i]\n",
    "        else:\n",
    "            seg1.append(poisson.pmf(packs[i],lam1))\n",
    "            seg2.append(poisson.pmf(packs[i],lam2))\n",
    "            seg3.append(poisson.pmf(packs[i],lam3))\n",
    "            \n",
    "            prob.append(((np.exp(theta1))/(np.exp(theta1)+np.exp(theta2)+np.exp(theta3)))*seg1[i]+\n",
    "                        ((np.exp(theta2))/(np.exp(theta1)+np.exp(theta2)+np.exp(theta3)))*seg2[i]+\n",
    "                        ((np.exp(theta3))/(np.exp(theta1)+np.exp(theta2)+np.exp(theta3)))*seg3[i])\n",
    "            prob_t.append(people[i]*np.log(prob[i]))\n",
    "            E.append(prob[i]*people.sum())\n",
    "            #probSum += prob_t[i]\n",
    "        \n",
    "    return sum(prob_t)"
   ]
  },
  {
   "cell_type": "markdown",
   "metadata": {},
   "source": [
    "<hr style=\"border:2px solid black\">\n",
    "<b>2. the negative of the log-likelihood</b>\n",
    "<hr style=\"border:2px solid black\">"
   ]
  },
  {
   "cell_type": "code",
   "execution_count": 28,
   "metadata": {},
   "outputs": [],
   "source": [
    "def neg_log_likelihood_fmm3(params, packs, people):\n",
    "    return(-np.sum(log_likelihood_fmm3(params, packs, people)))"
   ]
  },
  {
   "cell_type": "markdown",
   "metadata": {},
   "source": [
    "<hr style=\"border:2px solid black\">\n",
    "<b>3. Specify the information needed for the optimizer</b>\n",
    "<hr style=\"border:2px solid black\">"
   ]
  },
  {
   "cell_type": "code",
   "execution_count": 29,
   "metadata": {},
   "outputs": [
    {
     "name": "stdout",
     "output_type": "stream",
     "text": [
      "-1275.4233903049492\n",
      "neg: 1275.4233903049492\n"
     ]
    }
   ],
   "source": [
    "packs = candy.Packs\n",
    "people = candy.People\n",
    "params = np.array((0.2,2,7,1,2,0))\n",
    "print(log_likelihood_fmm3(params, packs, people))\n",
    "print('neg:', neg_log_likelihood_fmm3(params, packs, people))"
   ]
  },
  {
   "cell_type": "markdown",
   "metadata": {},
   "source": [
    "<hr style=\"border:2px solid black\">\n",
    "<b>4. Call the optimizer</b>\n",
    "<hr style=\"border:2px solid black\">"
   ]
  },
  {
   "cell_type": "code",
   "execution_count": 30,
   "metadata": {},
   "outputs": [],
   "source": [
    "result_fmm3_final = minimize(\n",
    "    neg_log_likelihood_fmm3, \n",
    "    [0.2,2,7,1,2,0],  # Inline initial guess\n",
    "    args=(packs, people), \n",
    "    bounds=((1e-5,None),(1e-5,None),(1e-5,None),(1e-5,None),(1e-5,None),(None,None))  # Inline bounds\n",
    ")"
   ]
  },
  {
   "cell_type": "markdown",
   "metadata": {},
   "source": [
    "<hr style=\"border:2px solid black\">\n",
    "<b>5. Review the result</b>\n",
    "<hr style=\"border:2px solid black\">"
   ]
  },
  {
   "cell_type": "code",
   "execution_count": 31,
   "metadata": {},
   "outputs": [
    {
     "data": {
      "text/plain": [
       "      fun: 1132.0429842574208\n",
       " hess_inv: <6x6 LbfgsInvHessProduct with dtype=float64>\n",
       "      jac: array([ 4.09272616e-04, -1.13686838e-04, -9.09494627e-05, -2.50111043e-04,\n",
       "        1.36424206e-04,  0.00000000e+00])\n",
       "  message: 'CONVERGENCE: REL_REDUCTION_OF_F_<=_FACTR*EPSMCH'\n",
       "     nfev: 112\n",
       "      nit: 14\n",
       "     njev: 16\n",
       "   status: 0\n",
       "  success: True\n",
       "        x: array([ 0.29054317,  3.48331344, 11.21579157,  0.43041889,  1.10485004,\n",
       "        0.        ])"
      ]
     },
     "execution_count": 31,
     "metadata": {},
     "output_type": "execute_result"
    }
   ],
   "source": [
    "result_fmm3_final"
   ]
  },
  {
   "cell_type": "code",
   "execution_count": 32,
   "metadata": {},
   "outputs": [
    {
     "name": "stdout",
     "output_type": "stream",
     "text": [
      "Estimated 3 segment finite mixture model Parameters (lambda 1, lambda 2, lamda 3, theta 1, theta 2, theta 3): [ 0.29054317  3.48331344 11.21579157  0.43041889  1.10485004  0.        ]\n",
      "Maximum Log-Likelihood (2 segment finite mixture Model): -1132.0429842574208\n"
     ]
    }
   ],
   "source": [
    "print(\"Estimated 3 segment finite mixture model Parameters (lambda 1, lambda 2, lamda 3, theta 1, theta 2, theta 3):\", result_fmm3_final.x)\n",
    "print(\"Maximum Log-Likelihood (2 segment finite mixture Model):\", -result_fmm3_final.fun)"
   ]
  },
  {
   "cell_type": "markdown",
   "metadata": {},
   "source": [
    "## 4 Segment"
   ]
  },
  {
   "cell_type": "markdown",
   "metadata": {},
   "source": [
    "<hr style=\"border:2px solid black\">\n",
    "<b>Define the funtions needed</b><br>\n",
    "<b>1. the log-likelihood</b>\n",
    "<hr style=\"border:2px solid black\">"
   ]
  },
  {
   "cell_type": "code",
   "execution_count": 33,
   "metadata": {},
   "outputs": [],
   "source": [
    "def log_likelihood_fmm4(params, packs, people):\n",
    "    lam1, lam2, lam3, lam4, theta1, theta2, theta3, theta4 = params\n",
    "    \n",
    "    theta1=params[4]\n",
    "    theta2=params[5]\n",
    "    theta3=params[6]\n",
    "    theta4=params[7]=0\n",
    "    prob = []\n",
    "    prob_t =[]\n",
    "    seg1 = []\n",
    "    seg2 = []\n",
    "    seg3 = []\n",
    "    seg4 = []\n",
    "    E = []\n",
    "\n",
    "    #probSum = 0\n",
    "    \n",
    "# need to consider all periods\n",
    "    pds = list(range(0, len(packs)))\n",
    "    for i in pds:\n",
    "        if i == 0:\n",
    "            seg1.append(poisson.pmf(packs[i],lam1))\n",
    "            seg2.append(poisson.pmf(packs[i],lam2))\n",
    "            seg3.append(poisson.pmf(packs[i],lam3))\n",
    "            seg4.append(poisson.pmf(packs[i],lam4))\n",
    "                        \n",
    "            prob.append(((np.exp(theta1))/(np.exp(theta1)+np.exp(theta2)+np.exp(theta3)+np.exp(theta4)))*seg1[i]+\n",
    "                        ((np.exp(theta2))/(np.exp(theta1)+np.exp(theta2)+np.exp(theta3)+np.exp(theta4)))*seg2[i]+\n",
    "                        ((np.exp(theta3))/(np.exp(theta1)+np.exp(theta2)+np.exp(theta3)+np.exp(theta4)))*seg3[i]+\n",
    "                        ((np.exp(theta4))/(np.exp(theta1)+np.exp(theta2)+np.exp(theta3)+np.exp(theta4)))*seg4[i])\n",
    "            prob_t.append(people[i]*np.log(prob[i]))\n",
    "            E.append(prob[i]*people.sum())\n",
    "            #probSum += prob_t[i]\n",
    "        else:\n",
    "            seg1.append(poisson.pmf(packs[i],lam1))\n",
    "            seg2.append(poisson.pmf(packs[i],lam2))\n",
    "            seg3.append(poisson.pmf(packs[i],lam3))\n",
    "            seg4.append(poisson.pmf(packs[i],lam4))\n",
    "            \n",
    "            prob.append(((np.exp(theta1))/(np.exp(theta1)+np.exp(theta2)+np.exp(theta3)+np.exp(theta4)))*seg1[i]+\n",
    "                        ((np.exp(theta2))/(np.exp(theta1)+np.exp(theta2)+np.exp(theta3)+np.exp(theta4)))*seg2[i]+\n",
    "                        ((np.exp(theta3))/(np.exp(theta1)+np.exp(theta2)+np.exp(theta3)+np.exp(theta4)))*seg3[i]+\n",
    "                        ((np.exp(theta4))/(np.exp(theta1)+np.exp(theta2)+np.exp(theta3)+np.exp(theta4)))*seg4[i])\n",
    "            prob_t.append(people[i]*np.log(prob[i]))\n",
    "            E.append(prob[i]*people.sum())\n",
    "            #probSum += prob_t[i]\n",
    "        \n",
    "    return sum(prob_t)"
   ]
  },
  {
   "cell_type": "markdown",
   "metadata": {},
   "source": [
    "<hr style=\"border:2px solid black\">\n",
    "<b>2. the negative of the log-likelihood</b>\n",
    "<hr style=\"border:2px solid black\">"
   ]
  },
  {
   "cell_type": "code",
   "execution_count": 34,
   "metadata": {},
   "outputs": [],
   "source": [
    "def neg_log_likelihood_fmm4(params, packs, people):\n",
    "    return(-np.sum(log_likelihood_fmm4(params, packs, people)))"
   ]
  },
  {
   "cell_type": "markdown",
   "metadata": {},
   "source": [
    "<hr style=\"border:2px solid black\">\n",
    "<b>3. Specify the information needed for the optimizer</b>\n",
    "<hr style=\"border:2px solid black\">"
   ]
  },
  {
   "cell_type": "code",
   "execution_count": 35,
   "metadata": {},
   "outputs": [
    {
     "name": "stdout",
     "output_type": "stream",
     "text": [
      "-1134.7141082265887\n",
      "neg: 1134.7141082265887\n"
     ]
    }
   ],
   "source": [
    "packs = candy.Packs\n",
    "people = candy.People\n",
    "params = np.array((3,0.2,7,13,2,1,0.5,0))\n",
    "print(log_likelihood_fmm4(params, packs, people))\n",
    "print('neg:', neg_log_likelihood_fmm4(params, packs, people))"
   ]
  },
  {
   "cell_type": "markdown",
   "metadata": {},
   "source": [
    "<hr style=\"border:2px solid black\">\n",
    "<b>4. Call the optimizer</b>\n",
    "<hr style=\"border:2px solid black\">"
   ]
  },
  {
   "cell_type": "code",
   "execution_count": 36,
   "metadata": {},
   "outputs": [],
   "source": [
    "result_fmm4_final = minimize(\n",
    "    neg_log_likelihood_fmm4, \n",
    "    [3,0.2,7,13,2,1,0.5,0],  # Inline initial guess\n",
    "    args=(packs, people), \n",
    "    bounds=((1e-5,None),(1e-5,None),(1e-5,None),(1e-5,None),(1e-5,None),(1e-5,None),(1e-5,None),(None,None))  # Inline bounds\n",
    ")"
   ]
  },
  {
   "cell_type": "markdown",
   "metadata": {},
   "source": [
    "<hr style=\"border:2px solid black\">\n",
    "<b>5. Review the result</b>\n",
    "<hr style=\"border:2px solid black\">"
   ]
  },
  {
   "cell_type": "code",
   "execution_count": 37,
   "metadata": {},
   "outputs": [
    {
     "data": {
      "text/plain": [
       "      fun: 1130.0705911485175\n",
       " hess_inv: <8x8 LbfgsInvHessProduct with dtype=float64>\n",
       "      jac: array([-1.43245416e-03,  4.54747351e-04,  2.27373677e-04,  4.32009948e-04,\n",
       "       -7.95807869e-04, -9.09494697e-05, -4.77484719e-04,  0.00000000e+00])\n",
       "  message: 'CONVERGENCE: REL_REDUCTION_OF_F_<=_FACTR*EPSMCH'\n",
       "     nfev: 243\n",
       "      nit: 22\n",
       "     njev: 27\n",
       "   status: 0\n",
       "  success: True\n",
       "        x: array([ 3.00183067,  0.20471233,  7.41787252, 12.87254227,  1.59796451,\n",
       "        0.87588531,  0.39785026,  0.        ])"
      ]
     },
     "execution_count": 37,
     "metadata": {},
     "output_type": "execute_result"
    }
   ],
   "source": [
    "result_fmm4_final"
   ]
  },
  {
   "cell_type": "code",
   "execution_count": 38,
   "metadata": {},
   "outputs": [
    {
     "name": "stdout",
     "output_type": "stream",
     "text": [
      "Estimated 4 segment finite mixture model Parameters (lambda 1, lambda 2, lamda 3, lambda 4, theta 1, theta 2, theta 3, theta 4): [ 3.00183067  0.20471233  7.41787252 12.87254227  1.59796451  0.87588531\n",
      "  0.39785026  0.        ]\n",
      "Maximum Log-Likelihood (4 segment finite mixture Model): -1130.0705911485175\n"
     ]
    }
   ],
   "source": [
    "print(\"Estimated 4 segment finite mixture model Parameters (lambda 1, lambda 2, lamda 3, lambda 4, theta 1, theta 2, theta 3, theta 4):\", result_fmm4_final.x)\n",
    "print(\"Maximum Log-Likelihood (4 segment finite mixture Model):\", -result_fmm4_final.fun)"
   ]
  },
  {
   "cell_type": "markdown",
   "metadata": {},
   "source": [
    "# Evaluating the models developed using log-likelihood ratio, AIC, BIC"
   ]
  },
  {
   "cell_type": "code",
   "execution_count": 39,
   "metadata": {},
   "outputs": [
    {
     "name": "stdout",
     "output_type": "stream",
     "text": [
      "Poisson Model (LL, AIC, BIC): -1544.9963904489678 3091.9927808979355 3093.037303335659\n",
      "NBD Model (LL, AIC, BIC): -1140.0237461861923 2284.0474923723846 2286.1365372478313\n",
      "Zero-Inflated NBD Model (LL, AIC, BIC): -1136.1656408318265 2278.331281663653 2281.4648489768233\n",
      "Finite Mixture Model - 2 Segment (LL, AIC, BIC): -1188.8328271728494 2383.665654345699 2386.799221658869\n",
      "Finite Mixture Model - 3 Segment (LL, AIC, BIC): -1132.0429842574208 2276.0859685148416 2282.353103141182\n",
      "Finite Mixture Model - 4 Segment (LL, AIC, BIC): -1130.0705911485175 2276.141182297035 2284.497361798822\n"
     ]
    }
   ],
   "source": [
    "# AIC=−2×Log-Likelihood+2×Number of Parameters\n",
    "# BIC=−2×Log-Likelihood+log(N)×Number of Parameters\n",
    "\n",
    "# Log likelihood\n",
    "poisson_LL = -result_poisson.fun\n",
    "nbd_LL = -result_nbd_final.fun\n",
    "zeroinflatednbd_LL = -result_znbd_final.fun\n",
    "segment2finite_LL = -result_fmm2_final.fun\n",
    "segment3finite_LL = -result_fmm3_final.fun\n",
    "segment4finite_LL = -result_fmm4_final.fun\n",
    "\n",
    "# Number of Parameters\n",
    "poisson_len = len(result_poisson.x)\n",
    "nbd_len = len(result_nbd_final.x)\n",
    "zeroinflatednbd_len = len(result_znbd_final.x)\n",
    "segment2finite_len = len(result_fmm2_final.x)\n",
    "segment3finite_len = len(result_fmm3_final.x)\n",
    "segment4finite_len = len(result_fmm4_final.x)\n",
    "\n",
    "# AIC\n",
    "AIC_poisson = (-2*poisson_LL) + (2*poisson_len)\n",
    "AIC_nbd = (-2*nbd_LL) + (2*nbd_len)\n",
    "AIC_zeroinflatednbd = (-2*zeroinflatednbd_LL) + (2*zeroinflatednbd_len)\n",
    "AIC_segment2finite = (-2*segment2finite_LL) + (2*segment2finite_len)\n",
    "AIC_segment3finite = (-2*segment3finite_LL) + (2*segment3finite_len)\n",
    "AIC_segment4finite = (-2*segment4finite_LL) + (2*segment4finite_len)\n",
    "\n",
    "#BIC\n",
    "N = candy.shape[0]\n",
    "\n",
    "BIC_poisson = (-2*poisson_LL) + (np.log(N)*poisson_len)\n",
    "BIC_nbd = (-2*nbd_LL) + (np.log(N)*nbd_len)\n",
    "BIC_zeroinflatednbd = (-2*zeroinflatednbd_LL) + (np.log(N)*zeroinflatednbd_len)\n",
    "BIC_segment2finite = (-2*segment2finite_LL) + (np.log(N)*segment2finite_len)\n",
    "BIC_segment3finite = (-2*segment3finite_LL) + (np.log(N)*segment3finite_len)\n",
    "BIC_segment4finite = (-2*segment4finite_LL) + (np.log(N)*segment4finite_len)\n",
    "\n",
    "\n",
    "print(\"Poisson Model (LL, AIC, BIC):\", poisson_LL, AIC_poisson, BIC_poisson)\n",
    "print(\"NBD Model (LL, AIC, BIC):\", nbd_LL, AIC_nbd, BIC_nbd)\n",
    "print(\"Zero-Inflated NBD Model (LL, AIC, BIC):\", zeroinflatednbd_LL, AIC_zeroinflatednbd, BIC_zeroinflatednbd)\n",
    "print(\"Finite Mixture Model - 2 Segment (LL, AIC, BIC):\", segment2finite_LL, AIC_segment2finite, BIC_segment2finite)\n",
    "print(\"Finite Mixture Model - 3 Segment (LL, AIC, BIC):\", segment3finite_LL, AIC_segment3finite, BIC_segment3finite)\n",
    "print(\"Finite Mixture Model - 4 Segment (LL, AIC, BIC):\", segment4finite_LL, AIC_segment4finite, BIC_segment4finite)"
   ]
  },
  {
   "attachments": {},
   "cell_type": "markdown",
   "metadata": {},
   "source": [
    "## •\tThe model with the highest log-likelihood is generally considered better as it maximizes the likelihood of the observed data.\n",
    "## •\tAIC and BIC are used for model comparison, with lower values indicating better-fitting models.\n",
    "\n",
    "## Based on above Results:\n",
    "## •\tThe Poisson model has the highest Log-Likelihood, indicating a better fit in terms of likelihood.\n",
    "## •\tThe Zero-Inflated NBD model has a slightly better AIC and BIC compared to the NBD model.\n",
    "## •\tThe Finite Mixture Models have varying segmentations, and their performance depends on the complexity needed.\n",
    "\n",
    "## The differences could be due to the underlying distribution assumptions and the complexity of the models. Finite Mixture Models introduce segmentation, capturing different groups within the data.\n"
   ]
  }
 ],
 "metadata": {
  "kernelspec": {
   "display_name": "Python 3 (ipykernel)",
   "language": "python",
   "name": "python3"
  },
  "language_info": {
   "codemirror_mode": {
    "name": "ipython",
    "version": 3
   },
   "file_extension": ".py",
   "mimetype": "text/x-python",
   "name": "python",
   "nbconvert_exporter": "python",
   "pygments_lexer": "ipython3",
   "version": "3.11.5"
  }
 },
 "nbformat": 4,
 "nbformat_minor": 2
}
